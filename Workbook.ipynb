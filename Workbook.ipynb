{
 "cells": [
  {
   "cell_type": "code",
   "execution_count": 1,
   "metadata": {},
   "outputs": [],
   "source": [
    "import pandas as pd\n",
    "import numpy as np\n",
    "import matplotlib.pyplot as plt\n",
    "import seaborn as sns\n",
    "import re\n",
    "from sklearn.model_selection import train_test_split\n",
    "from sklearn.linear_model import LogisticRegression\n",
    "\n",
    "from sklearn.utils import resample\n",
    "from sklearn.dummy import DummyClassifier\n",
    "from sklearn.metrics import accuracy_score, f1_score\n",
    "\n",
    "from imblearn.over_sampling import SMOTE\n",
    "\n",
    "from sklearn.ensemble import RandomForestClassifier\n",
    "\n",
    "from sklearn.model_selection import GridSearchCV\n",
    "\n",
    "from sklearn.preprocessing import StandardScaler\n",
    "\n",
    "\n",
    "\n",
    "from sklearn.tree import DecisionTreeClassifier \n",
    "from sklearn.metrics import accuracy_score, roc_curve, auc\n",
    "from imblearn.over_sampling import SMOTE, ADASYN\n",
    "from sklearn import tree \n",
    "from sklearn.preprocessing import LabelEncoder\n",
    "from sklearn.externals.six import StringIO  \n",
    "from IPython.display import Image  \n",
    "from sklearn.tree import export_graphviz\n",
    "import pydotplus\n",
    "\n",
    "from sklearn.preprocessing import PolynomialFeatures\n",
    "from sklearn import metrics"
   ]
  },
  {
   "cell_type": "code",
   "execution_count": 32,
   "metadata": {},
   "outputs": [],
   "source": [
    "url = \"https://data.cityofnewyork.us/resource/fhrw-4uyv.json?$where=created_date%20between%20%272019-04-11T00:00:00%27%20and%20%272019-04-12T00:00:00%27\"\n",
    "data = pd.read_json(url)"
   ]
  },
  {
   "cell_type": "code",
   "execution_count": 43,
   "metadata": {},
   "outputs": [
    {
     "data": {
      "text/html": [
       "<div>\n",
       "<style scoped>\n",
       "    .dataframe tbody tr th:only-of-type {\n",
       "        vertical-align: middle;\n",
       "    }\n",
       "\n",
       "    .dataframe tbody tr th {\n",
       "        vertical-align: top;\n",
       "    }\n",
       "\n",
       "    .dataframe thead th {\n",
       "        text-align: right;\n",
       "    }\n",
       "</style>\n",
       "<table border=\"1\" class=\"dataframe\">\n",
       "  <thead>\n",
       "    <tr style=\"text-align: right;\">\n",
       "      <th></th>\n",
       "      <th>address_type</th>\n",
       "      <th>agency</th>\n",
       "      <th>agency_name</th>\n",
       "      <th>bbl</th>\n",
       "      <th>borough</th>\n",
       "      <th>bridge_highway_direction</th>\n",
       "      <th>bridge_highway_name</th>\n",
       "      <th>bridge_highway_segment</th>\n",
       "      <th>city</th>\n",
       "      <th>closed_date</th>\n",
       "      <th>...</th>\n",
       "      <th>park_facility_name</th>\n",
       "      <th>resolution_action_updated_date</th>\n",
       "      <th>resolution_description</th>\n",
       "      <th>road_ramp</th>\n",
       "      <th>status</th>\n",
       "      <th>street_name</th>\n",
       "      <th>taxi_pick_up_location</th>\n",
       "      <th>unique_key</th>\n",
       "      <th>x_coordinate_state_plane</th>\n",
       "      <th>y_coordinate_state_plane</th>\n",
       "    </tr>\n",
       "  </thead>\n",
       "  <tbody>\n",
       "    <tr>\n",
       "      <th>995</th>\n",
       "      <td>ADDRESS</td>\n",
       "      <td>HPD</td>\n",
       "      <td>Department of Housing Preservation and Develop...</td>\n",
       "      <td>4.015110e+09</td>\n",
       "      <td>QUEENS</td>\n",
       "      <td>NaN</td>\n",
       "      <td>NaN</td>\n",
       "      <td>NaN</td>\n",
       "      <td>Elmhurst</td>\n",
       "      <td>2019-04-13T02:13:10.000</td>\n",
       "      <td>...</td>\n",
       "      <td>Unspecified</td>\n",
       "      <td>2019-04-13T02:13:10.000</td>\n",
       "      <td>The complaint you filed is a duplicate of a co...</td>\n",
       "      <td>NaN</td>\n",
       "      <td>Closed</td>\n",
       "      <td>ELMHURST AVENUE</td>\n",
       "      <td>NaN</td>\n",
       "      <td>42197021</td>\n",
       "      <td>1018372.0</td>\n",
       "      <td>211606.0</td>\n",
       "    </tr>\n",
       "    <tr>\n",
       "      <th>996</th>\n",
       "      <td>ADDRESS</td>\n",
       "      <td>HPD</td>\n",
       "      <td>Department of Housing Preservation and Develop...</td>\n",
       "      <td>4.015110e+09</td>\n",
       "      <td>QUEENS</td>\n",
       "      <td>NaN</td>\n",
       "      <td>NaN</td>\n",
       "      <td>NaN</td>\n",
       "      <td>Elmhurst</td>\n",
       "      <td>2019-04-13T02:13:10.000</td>\n",
       "      <td>...</td>\n",
       "      <td>Unspecified</td>\n",
       "      <td>2019-04-13T02:13:10.000</td>\n",
       "      <td>The complaint you filed is a duplicate of a co...</td>\n",
       "      <td>NaN</td>\n",
       "      <td>Closed</td>\n",
       "      <td>ELMHURST AVENUE</td>\n",
       "      <td>NaN</td>\n",
       "      <td>42198022</td>\n",
       "      <td>1018372.0</td>\n",
       "      <td>211606.0</td>\n",
       "    </tr>\n",
       "    <tr>\n",
       "      <th>997</th>\n",
       "      <td>ADDRESS</td>\n",
       "      <td>HPD</td>\n",
       "      <td>Department of Housing Preservation and Develop...</td>\n",
       "      <td>4.015110e+09</td>\n",
       "      <td>QUEENS</td>\n",
       "      <td>NaN</td>\n",
       "      <td>NaN</td>\n",
       "      <td>NaN</td>\n",
       "      <td>Elmhurst</td>\n",
       "      <td>2019-04-13T02:13:10.000</td>\n",
       "      <td>...</td>\n",
       "      <td>Unspecified</td>\n",
       "      <td>2019-04-13T02:13:10.000</td>\n",
       "      <td>The complaint you filed is a duplicate of a co...</td>\n",
       "      <td>NaN</td>\n",
       "      <td>Closed</td>\n",
       "      <td>ELMHURST AVENUE</td>\n",
       "      <td>NaN</td>\n",
       "      <td>42193360</td>\n",
       "      <td>1018372.0</td>\n",
       "      <td>211606.0</td>\n",
       "    </tr>\n",
       "    <tr>\n",
       "      <th>998</th>\n",
       "      <td>ADDRESS</td>\n",
       "      <td>DOT</td>\n",
       "      <td>Department of Transportation</td>\n",
       "      <td>4.103470e+09</td>\n",
       "      <td>QUEENS</td>\n",
       "      <td>NaN</td>\n",
       "      <td>NaN</td>\n",
       "      <td>NaN</td>\n",
       "      <td>SAINT ALBANS</td>\n",
       "      <td>2019-05-02T10:29:27.000</td>\n",
       "      <td>...</td>\n",
       "      <td>Unspecified</td>\n",
       "      <td>2019-05-02T10:29:27.000</td>\n",
       "      <td>The Department of Transportation inspected the...</td>\n",
       "      <td>NaN</td>\n",
       "      <td>Closed</td>\n",
       "      <td>DUNLOP AVENUE</td>\n",
       "      <td>NaN</td>\n",
       "      <td>42200621</td>\n",
       "      <td>1047247.0</td>\n",
       "      <td>195180.0</td>\n",
       "    </tr>\n",
       "    <tr>\n",
       "      <th>999</th>\n",
       "      <td>ADDRESS</td>\n",
       "      <td>NYPD</td>\n",
       "      <td>New York City Police Department</td>\n",
       "      <td>3.065660e+09</td>\n",
       "      <td>BROOKLYN</td>\n",
       "      <td>NaN</td>\n",
       "      <td>NaN</td>\n",
       "      <td>NaN</td>\n",
       "      <td>BROOKLYN</td>\n",
       "      <td>2019-04-12T05:03:12.000</td>\n",
       "      <td>...</td>\n",
       "      <td>Unspecified</td>\n",
       "      <td>2019-04-12T05:03:12.000</td>\n",
       "      <td>The Police Department responded and upon arriv...</td>\n",
       "      <td>NaN</td>\n",
       "      <td>Closed</td>\n",
       "      <td>AVENUE M</td>\n",
       "      <td>NaN</td>\n",
       "      <td>42193552</td>\n",
       "      <td>991995.0</td>\n",
       "      <td>163948.0</td>\n",
       "    </tr>\n",
       "  </tbody>\n",
       "</table>\n",
       "<p>5 rows × 39 columns</p>\n",
       "</div>"
      ],
      "text/plain": [
       "    address_type agency                                        agency_name  \\\n",
       "995      ADDRESS    HPD  Department of Housing Preservation and Develop...   \n",
       "996      ADDRESS    HPD  Department of Housing Preservation and Develop...   \n",
       "997      ADDRESS    HPD  Department of Housing Preservation and Develop...   \n",
       "998      ADDRESS    DOT                       Department of Transportation   \n",
       "999      ADDRESS   NYPD                    New York City Police Department   \n",
       "\n",
       "              bbl   borough bridge_highway_direction bridge_highway_name  \\\n",
       "995  4.015110e+09    QUEENS                      NaN                 NaN   \n",
       "996  4.015110e+09    QUEENS                      NaN                 NaN   \n",
       "997  4.015110e+09    QUEENS                      NaN                 NaN   \n",
       "998  4.103470e+09    QUEENS                      NaN                 NaN   \n",
       "999  3.065660e+09  BROOKLYN                      NaN                 NaN   \n",
       "\n",
       "    bridge_highway_segment          city              closed_date  \\\n",
       "995                    NaN      Elmhurst  2019-04-13T02:13:10.000   \n",
       "996                    NaN      Elmhurst  2019-04-13T02:13:10.000   \n",
       "997                    NaN      Elmhurst  2019-04-13T02:13:10.000   \n",
       "998                    NaN  SAINT ALBANS  2019-05-02T10:29:27.000   \n",
       "999                    NaN      BROOKLYN  2019-04-12T05:03:12.000   \n",
       "\n",
       "               ...            park_facility_name  \\\n",
       "995            ...                   Unspecified   \n",
       "996            ...                   Unspecified   \n",
       "997            ...                   Unspecified   \n",
       "998            ...                   Unspecified   \n",
       "999            ...                   Unspecified   \n",
       "\n",
       "    resolution_action_updated_date  \\\n",
       "995        2019-04-13T02:13:10.000   \n",
       "996        2019-04-13T02:13:10.000   \n",
       "997        2019-04-13T02:13:10.000   \n",
       "998        2019-05-02T10:29:27.000   \n",
       "999        2019-04-12T05:03:12.000   \n",
       "\n",
       "                                resolution_description road_ramp  status  \\\n",
       "995  The complaint you filed is a duplicate of a co...       NaN  Closed   \n",
       "996  The complaint you filed is a duplicate of a co...       NaN  Closed   \n",
       "997  The complaint you filed is a duplicate of a co...       NaN  Closed   \n",
       "998  The Department of Transportation inspected the...       NaN  Closed   \n",
       "999  The Police Department responded and upon arriv...       NaN  Closed   \n",
       "\n",
       "         street_name taxi_pick_up_location unique_key  \\\n",
       "995  ELMHURST AVENUE                   NaN   42197021   \n",
       "996  ELMHURST AVENUE                   NaN   42198022   \n",
       "997  ELMHURST AVENUE                   NaN   42193360   \n",
       "998    DUNLOP AVENUE                   NaN   42200621   \n",
       "999         AVENUE M                   NaN   42193552   \n",
       "\n",
       "    x_coordinate_state_plane  y_coordinate_state_plane  \n",
       "995                1018372.0                  211606.0  \n",
       "996                1018372.0                  211606.0  \n",
       "997                1018372.0                  211606.0  \n",
       "998                1047247.0                  195180.0  \n",
       "999                 991995.0                  163948.0  \n",
       "\n",
       "[5 rows x 39 columns]"
      ]
     },
     "execution_count": 43,
     "metadata": {},
     "output_type": "execute_result"
    }
   ],
   "source": [
    "data.tail()"
   ]
  },
  {
   "cell_type": "code",
   "execution_count": 34,
   "metadata": {},
   "outputs": [
    {
     "data": {
      "text/plain": [
       "Index(['address_type', 'agency', 'agency_name', 'bbl', 'borough',\n",
       "       'bridge_highway_direction', 'bridge_highway_name',\n",
       "       'bridge_highway_segment', 'city', 'closed_date', 'community_board',\n",
       "       'complaint_type', 'created_date', 'cross_street_1', 'cross_street_2',\n",
       "       'descriptor', 'due_date', 'facility_type', 'incident_address',\n",
       "       'incident_zip', 'intersection_street_1', 'intersection_street_2',\n",
       "       'landmark', 'latitude', 'location', 'location_type', 'longitude',\n",
       "       'open_data_channel_type', 'park_borough', 'park_facility_name',\n",
       "       'resolution_action_updated_date', 'resolution_description', 'road_ramp',\n",
       "       'status', 'street_name', 'taxi_pick_up_location', 'unique_key',\n",
       "       'x_coordinate_state_plane', 'y_coordinate_state_plane'],\n",
       "      dtype='object')"
      ]
     },
     "execution_count": 34,
     "metadata": {},
     "output_type": "execute_result"
    }
   ],
   "source": [
    "data.columns"
   ]
  },
  {
   "cell_type": "code",
   "execution_count": 35,
   "metadata": {},
   "outputs": [
    {
     "data": {
      "text/plain": [
       "HEAT/HOT WATER                         146\n",
       "Illegal Parking                        111\n",
       "Noise - Residential                     95\n",
       "Rodent                                  95\n",
       "Blocked Driveway                        81\n",
       "Noise                                   77\n",
       "Street Condition                        40\n",
       "Noise - Street/Sidewalk                 27\n",
       "Noise - Vehicle                         19\n",
       "Noise - Commercial                      18\n",
       "Sewer                                   15\n",
       "Sanitation Condition                    14\n",
       "Water System                            13\n",
       "General Construction/Plumbing           13\n",
       "Request Large Bulky Item Collection     13\n",
       "Derelict Vehicle                        13\n",
       "UNSANITARY CONDITION                    12\n",
       "Construction Safety Enforcement         11\n",
       "Unsanitary Animal Pvt Property          11\n",
       "PAINT/PLASTER                           10\n",
       "Dirty Conditions                         9\n",
       "Food Poisoning                           9\n",
       "Street Light Condition                   8\n",
       "PLUMBING                                 8\n",
       "Derelict Vehicles                        8\n",
       "Elevator                                 7\n",
       "Standing Water                           6\n",
       "Air Quality                              6\n",
       "For Hire Vehicle Complaint               6\n",
       "Building/Use                             6\n",
       "                                      ... \n",
       "ELECTRIC                                 3\n",
       "Highway Condition                        2\n",
       "Electronics Waste Appointment            2\n",
       "Hazardous Materials                      2\n",
       "Smoking                                  2\n",
       "Traffic                                  2\n",
       "Consumer Complaint                       2\n",
       "Root/Sewer/Sidewalk Condition            2\n",
       "Non-Emergency Police Matter              2\n",
       "New Tree Request                         2\n",
       "Boilers                                  1\n",
       "Animal in a Park                         1\n",
       "Damaged Tree                             1\n",
       "Drinking                                 1\n",
       "Curb Condition                           1\n",
       "Taxi Complaint                           1\n",
       "Unsanitary Pigeon Condition              1\n",
       "Animal Abuse                             1\n",
       "Maintenance or Facility                  1\n",
       "Street Sign - Dangling                   1\n",
       "Emergency Response Team (ERT)            1\n",
       "Illegal Tree Damage                      1\n",
       "Homeless Encampment                      1\n",
       "Noise - House of Worship                 1\n",
       "HPD Literature Request                   1\n",
       "Housing Options                          1\n",
       "Radioactive Material                     1\n",
       "Taxi Report                              1\n",
       "APPLIANCE                                1\n",
       "SCRIE                                    1\n",
       "Name: complaint_type, Length: 74, dtype: int64"
      ]
     },
     "execution_count": 35,
     "metadata": {},
     "output_type": "execute_result"
    }
   ],
   "source": [
    "data.complaint_type.value_counts()"
   ]
  },
  {
   "cell_type": "code",
   "execution_count": 36,
   "metadata": {},
   "outputs": [
    {
     "data": {
      "text/plain": [
       "BROOKLYN         307\n",
       "MANHATTAN        237\n",
       "QUEENS           225\n",
       "BRONX            180\n",
       "STATEN ISLAND     47\n",
       "Unspecified        4\n",
       "Name: borough, dtype: int64"
      ]
     },
     "execution_count": 36,
     "metadata": {},
     "output_type": "execute_result"
    }
   ],
   "source": [
    "data.borough.value_counts()"
   ]
  },
  {
   "cell_type": "code",
   "execution_count": 19,
   "metadata": {},
   "outputs": [],
   "source": [
    "test = data.groupby(['borough', 'complaint_type'])"
   ]
  },
  {
   "cell_type": "code",
   "execution_count": 37,
   "metadata": {},
   "outputs": [
    {
     "data": {
      "text/plain": [
       "Illegal Parking                        45\n",
       "Rodent                                 39\n",
       "HEAT/HOT WATER                         33\n",
       "Noise - Residential                    29\n",
       "Blocked Driveway                       24\n",
       "Street Condition                       13\n",
       "Noise                                  13\n",
       "Noise - Commercial                      8\n",
       "General Construction/Plumbing           7\n",
       "Water System                            6\n",
       "PAINT/PLASTER                           6\n",
       "Sanitation Condition                    5\n",
       "Sewer                                   4\n",
       "Noise - Helicopter                      4\n",
       "Derelict Vehicle                        4\n",
       "Unsanitary Animal Pvt Property          4\n",
       "Derelict Vehicles                       4\n",
       "UNSANITARY CONDITION                    4\n",
       "FLOORING/STAIRS                         4\n",
       "Noise - Street/Sidewalk                 4\n",
       "Noise - Vehicle                         3\n",
       "PLUMBING                                3\n",
       "Air Quality                             3\n",
       "Dirty Conditions                        3\n",
       "Street Sign - Missing                   2\n",
       "Lead                                    2\n",
       "Litter Basket / Request                 2\n",
       "Building/Use                            2\n",
       "Missed Collection (All Materials)       2\n",
       "Elevator                                2\n",
       "Non-Emergency Police Matter             2\n",
       "For Hire Vehicle Complaint              2\n",
       "Street Light Condition                  2\n",
       "Food Establishment                      2\n",
       "Taxi Complaint                          1\n",
       "Smoking                                 1\n",
       "Graffiti                                1\n",
       "DOOR/WINDOW                             1\n",
       "Illegal Tree Damage                     1\n",
       "Noise - House of Worship                1\n",
       "Sidewalk Condition                      1\n",
       "Food Poisoning                          1\n",
       "Traffic                                 1\n",
       "Root/Sewer/Sidewalk Condition           1\n",
       "Animal in a Park                        1\n",
       "Damaged Tree                            1\n",
       "Request Large Bulky Item Collection     1\n",
       "New Tree Request                        1\n",
       "Homeless Person Assistance              1\n",
       "Name: complaint_type, dtype: int64"
      ]
     },
     "execution_count": 37,
     "metadata": {},
     "output_type": "execute_result"
    }
   ],
   "source": [
    "data['complaint_type'][data['borough']=='BROOKLYN'].value_counts()"
   ]
  },
  {
   "cell_type": "code",
   "execution_count": 38,
   "metadata": {},
   "outputs": [
    {
     "data": {
      "text/plain": [
       "Blocked Driveway                       35\n",
       "Illegal Parking                        34\n",
       "Rodent                                 16\n",
       "Noise - Residential                    15\n",
       "HEAT/HOT WATER                         14\n",
       "Noise                                  14\n",
       "Request Large Bulky Item Collection    11\n",
       "Street Condition                        8\n",
       "Sanitation Condition                    6\n",
       "Derelict Vehicle                        6\n",
       "Noise - Vehicle                         6\n",
       "Noise - Street/Sidewalk                 5\n",
       "Building/Use                            4\n",
       "Food Poisoning                          4\n",
       "Noise - Commercial                      4\n",
       "General Construction/Plumbing           4\n",
       "Derelict Vehicles                       3\n",
       "Street Sign - Missing                   3\n",
       "Graffiti                                3\n",
       "ELECTRIC                                2\n",
       "Water System                            2\n",
       "Elevator                                2\n",
       "Air Quality                             2\n",
       "Unsanitary Animal Pvt Property          2\n",
       "Sidewalk Condition                      2\n",
       "Standing Water                          2\n",
       "Street Light Condition                  2\n",
       "For Hire Vehicle Complaint              2\n",
       "SCRIE                                   1\n",
       "Street Sign - Dangling                  1\n",
       "GENERAL                                 1\n",
       "Sewer                                   1\n",
       "Dirty Conditions                        1\n",
       "Traffic Signal Condition                1\n",
       "Drinking                                1\n",
       "Root/Sewer/Sidewalk Condition           1\n",
       "Boilers                                 1\n",
       "Curb Condition                          1\n",
       "PAINT/PLASTER                           1\n",
       "Consumer Complaint                      1\n",
       "Name: complaint_type, dtype: int64"
      ]
     },
     "execution_count": 38,
     "metadata": {},
     "output_type": "execute_result"
    }
   ],
   "source": [
    "data['complaint_type'][data['borough']=='QUEENS'].value_counts()\n"
   ]
  },
  {
   "cell_type": "code",
   "execution_count": 39,
   "metadata": {},
   "outputs": [
    {
     "data": {
      "text/plain": [
       "Noise                                  46\n",
       "HEAT/HOT WATER                         41\n",
       "Noise - Residential                    22\n",
       "Rodent                                 18\n",
       "Noise - Street/Sidewalk                15\n",
       "Construction Safety Enforcement        11\n",
       "Illegal Parking                         8\n",
       "Street Condition                        7\n",
       "Noise - Vehicle                         7\n",
       "Noise - Commercial                      6\n",
       "Sewer                                   5\n",
       "PLUMBING                                4\n",
       "Dirty Conditions                        3\n",
       "UNSANITARY CONDITION                    3\n",
       "PAINT/PLASTER                           3\n",
       "Food Poisoning                          3\n",
       "Homeless Person Assistance              3\n",
       "For Hire Vehicle Complaint              2\n",
       "Water System                            2\n",
       "DOOR/WINDOW                             2\n",
       "Unsanitary Animal Pvt Property          2\n",
       "WATER LEAK                              2\n",
       "Blocked Driveway                        2\n",
       "GENERAL                                 1\n",
       "Air Quality                             1\n",
       "Food Establishment                      1\n",
       "Lead                                    1\n",
       "Radioactive Material                    1\n",
       "Standing Water                          1\n",
       "Sidewalk Condition                      1\n",
       "Request Large Bulky Item Collection     1\n",
       "Derelict Vehicles                       1\n",
       "Smoking                                 1\n",
       "Hazardous Materials                     1\n",
       "Traffic Signal Condition                1\n",
       "Maintenance or Facility                 1\n",
       "Homeless Encampment                     1\n",
       "Taxi Report                             1\n",
       "General Construction/Plumbing           1\n",
       "APPLIANCE                               1\n",
       "Emergency Response Team (ERT)           1\n",
       "Unsanitary Pigeon Condition             1\n",
       "Consumer Complaint                      1\n",
       "Name: complaint_type, dtype: int64"
      ]
     },
     "execution_count": 39,
     "metadata": {},
     "output_type": "execute_result"
    }
   ],
   "source": [
    "data['complaint_type'][data['borough']=='MANHATTAN'].value_counts()\n"
   ]
  },
  {
   "cell_type": "code",
   "execution_count": 42,
   "metadata": {},
   "outputs": [
    {
     "data": {
      "text/plain": [
       "HEAT/HOT WATER                    58\n",
       "Noise - Residential               27\n",
       "Rodent                            20\n",
       "Blocked Driveway                  15\n",
       "Illegal Parking                   14\n",
       "Street Condition                   6\n",
       "UNSANITARY CONDITION               4\n",
       "Sewer                              3\n",
       "Noise                              3\n",
       "Elevator                           3\n",
       "Noise - Street/Sidewalk            3\n",
       "Sanitation Condition               3\n",
       "Street Light Condition             2\n",
       "Dirty Conditions                   2\n",
       "Derelict Vehicle                   2\n",
       "Unsanitary Animal Pvt Property     2\n",
       "PLUMBING                           1\n",
       "Standing Water                     1\n",
       "GENERAL                            1\n",
       "Animal Abuse                       1\n",
       "Noise - Vehicle                    1\n",
       "Sidewalk Condition                 1\n",
       "Hazardous Materials                1\n",
       "Food Poisoning                     1\n",
       "ELECTRIC                           1\n",
       "Traffic                            1\n",
       "New Tree Request                   1\n",
       "WATER LEAK                         1\n",
       "General Construction/Plumbing      1\n",
       "Name: complaint_type, dtype: int64"
      ]
     },
     "execution_count": 42,
     "metadata": {},
     "output_type": "execute_result"
    }
   ],
   "source": [
    "data['complaint_type'][data['borough']=='BRONX'].value_counts()\n"
   ]
  },
  {
   "cell_type": "code",
   "execution_count": 41,
   "metadata": {},
   "outputs": [
    {
     "data": {
      "text/plain": [
       "Illegal Parking                      10\n",
       "Street Condition                      6\n",
       "Blocked Driveway                      5\n",
       "Water System                          3\n",
       "Standing Water                        2\n",
       "Sewer                                 2\n",
       "Rodent                                2\n",
       "WATER LEAK                            2\n",
       "Noise - Vehicle                       2\n",
       "Noise - Residential                   2\n",
       "Electronics Waste Appointment         2\n",
       "Street Light Condition                2\n",
       "Litter Basket / Request               1\n",
       "Unsanitary Animal Pvt Property        1\n",
       "Traffic Signal Condition              1\n",
       "UNSANITARY CONDITION                  1\n",
       "Noise                                 1\n",
       "Derelict Vehicle                      1\n",
       "Missed Collection (All Materials)     1\n",
       "Name: complaint_type, dtype: int64"
      ]
     },
     "execution_count": 41,
     "metadata": {},
     "output_type": "execute_result"
    }
   ],
   "source": [
    "data['complaint_type'][data['borough']=='STATEN ISLAND'].value_counts()\n"
   ]
  },
  {
   "cell_type": "code",
   "execution_count": 45,
   "metadata": {},
   "outputs": [
    {
     "data": {
      "text/plain": [
       "995    2019-04-11T07:59:25.000\n",
       "996    2019-04-11T07:59:26.000\n",
       "997    2019-04-11T07:59:28.000\n",
       "998    2019-04-11T07:59:34.000\n",
       "999    2019-04-11T07:59:37.000\n",
       "Name: created_date, dtype: object"
      ]
     },
     "execution_count": 45,
     "metadata": {},
     "output_type": "execute_result"
    }
   ],
   "source": [
    "data.created_date.tail()"
   ]
  },
  {
   "cell_type": "code",
   "execution_count": 54,
   "metadata": {},
   "outputs": [],
   "source": [
    "url1 = \"https://data.cityofnewyork.us/resource/fhrw-4uyv.json?$where=created_date%20between%20%272019-04-11T08:00:00%27%20and%20%272019-04-12T00:00:00%27\"\n",
    "data1 = pd.read_json(url1)"
   ]
  },
  {
   "cell_type": "code",
   "execution_count": 53,
   "metadata": {},
   "outputs": [
    {
     "data": {
      "text/plain": [
       "995    2019-04-11T07:59:25.000\n",
       "996    2019-04-11T07:59:26.000\n",
       "997    2019-04-11T07:59:28.000\n",
       "998    2019-04-11T07:59:34.000\n",
       "999    2019-04-11T07:59:37.000\n",
       "Name: created_date, dtype: object"
      ]
     },
     "execution_count": 53,
     "metadata": {},
     "output_type": "execute_result"
    }
   ],
   "source": [
    "data.created_date.tail()"
   ]
  },
  {
   "cell_type": "code",
   "execution_count": 57,
   "metadata": {
    "scrolled": true
   },
   "outputs": [
    {
     "data": {
      "text/plain": [
       "995    2019-04-11T09:49:00.000\n",
       "996    2019-04-11T09:49:00.000\n",
       "997    2019-04-11T09:49:00.000\n",
       "998    2019-04-11T09:49:00.000\n",
       "999    2019-04-11T09:49:03.000\n",
       "Name: created_date, dtype: object"
      ]
     },
     "execution_count": 57,
     "metadata": {},
     "output_type": "execute_result"
    }
   ],
   "source": [
    "data1.created_date.tail()"
   ]
  },
  {
   "cell_type": "code",
   "execution_count": 56,
   "metadata": {},
   "outputs": [
    {
     "data": {
      "text/plain": [
       "HEAT/HOT WATER                             104\n",
       "Street Light Condition                      91\n",
       "Illegal Parking                             73\n",
       "Missed Collection (All Materials)           51\n",
       "Request Large Bulky Item Collection         46\n",
       "Street Condition                            46\n",
       "UNSANITARY CONDITION                        34\n",
       "Derelict Vehicles                           33\n",
       "Blocked Driveway                            30\n",
       "General Construction/Plumbing               26\n",
       "Dirty Conditions                            26\n",
       "Sanitation Condition                        22\n",
       "Noise - Residential                         22\n",
       "PAINT/PLASTER                               19\n",
       "Water System                                19\n",
       "Graffiti                                    17\n",
       "Noise                                       14\n",
       "Sidewalk Condition                          14\n",
       "WATER LEAK                                  14\n",
       "Derelict Vehicle                            13\n",
       "ELECTRIC                                    13\n",
       "DOOR/WINDOW                                 13\n",
       "PLUMBING                                    11\n",
       "New Tree Request                            11\n",
       "Construction Safety Enforcement             11\n",
       "GENERAL                                     10\n",
       "Damaged Tree                                10\n",
       "Building/Use                                10\n",
       "Traffic Signal Condition                    10\n",
       "Plumbing                                     9\n",
       "                                          ... \n",
       "DOF Property - Update Account                2\n",
       "Sweeping/Inadequate                          2\n",
       "HPD Literature Request                       2\n",
       "Electrical                                   2\n",
       "Lead                                         1\n",
       "Noise - Helicopter                           1\n",
       "Curb Condition                               1\n",
       "Street Sign - Damaged                        1\n",
       "Boilers                                      1\n",
       "Indoor Sewage                                1\n",
       "Street Sign - Dangling                       1\n",
       "Elder Abuse                                  1\n",
       "Animal Abuse                                 1\n",
       "DOF Property - RPIE Issue                    1\n",
       "Advocate - Other                             1\n",
       "Forms                                        1\n",
       "Vacant Lot                                   1\n",
       "DOF Parking - Request Copy                   1\n",
       "Indoor Air Quality                           1\n",
       "Overflowing Litter Baskets                   1\n",
       "DOF Parking - Payment Issue                  1\n",
       "Special Projects Inspection Team (SPIT)      1\n",
       "Borough Office                               1\n",
       "DOF Property - Payment Issue                 1\n",
       "Scaffold Safety                              1\n",
       "Food Establishment                           1\n",
       "Research Questions                           1\n",
       "Asbestos                                     1\n",
       "DOF Property - Property Value                1\n",
       "Ferry Inquiry                                1\n",
       "Name: complaint_type, Length: 98, dtype: int64"
      ]
     },
     "execution_count": 56,
     "metadata": {},
     "output_type": "execute_result"
    }
   ],
   "source": [
    "data1.complaint_type.value_counts()"
   ]
  },
  {
   "cell_type": "code",
   "execution_count": 58,
   "metadata": {},
   "outputs": [],
   "source": [
    "url2 = \"https://data.cityofnewyork.us/resource/fhrw-4uyv.json?$where=created_date%20between%20%272019-04-11T09:49:04%27%20and%20%272019-04-12T00:00:00%27\"\n",
    "data2 = pd.read_json(url2)"
   ]
  },
  {
   "cell_type": "code",
   "execution_count": 61,
   "metadata": {},
   "outputs": [
    {
     "data": {
      "text/plain": [
       "995    2019-04-11T11:38:27.000\n",
       "996    2019-04-11T11:38:36.000\n",
       "997    2019-04-11T11:38:36.000\n",
       "998    2019-04-11T11:38:36.000\n",
       "999    2019-04-11T11:38:36.000\n",
       "Name: created_date, dtype: object"
      ]
     },
     "execution_count": 61,
     "metadata": {},
     "output_type": "execute_result"
    }
   ],
   "source": [
    "data2.created_date.tail()"
   ]
  },
  {
   "cell_type": "code",
   "execution_count": 65,
   "metadata": {},
   "outputs": [],
   "source": [
    "url3 = \"https://data.cityofnewyork.us/resource/fhrw-4uyv.json?$where=created_date%20between%20%272019-04-11T11:38:37%27%20and%20%272019-04-12T00:00:00%27\"\n",
    "data3 = pd.read_json(url3)"
   ]
  },
  {
   "cell_type": "code",
   "execution_count": 67,
   "metadata": {},
   "outputs": [
    {
     "data": {
      "text/plain": [
       "995    2019-04-11T13:35:16.000\n",
       "996    2019-04-11T13:35:24.000\n",
       "997    2019-04-11T13:35:24.000\n",
       "998    2019-04-11T13:36:00.000\n",
       "999    2019-04-11T13:36:06.000\n",
       "Name: created_date, dtype: object"
      ]
     },
     "execution_count": 67,
     "metadata": {},
     "output_type": "execute_result"
    }
   ],
   "source": [
    "data3.created_date.tail()"
   ]
  },
  {
   "cell_type": "code",
   "execution_count": 69,
   "metadata": {},
   "outputs": [
    {
     "data": {
      "text/plain": [
       "995    2019-04-11T15:25:05.000\n",
       "996    2019-04-11T15:25:09.000\n",
       "997    2019-04-11T15:25:14.000\n",
       "998    2019-04-11T15:25:17.000\n",
       "999    2019-04-11T15:25:22.000\n",
       "Name: created_date, dtype: object"
      ]
     },
     "execution_count": 69,
     "metadata": {},
     "output_type": "execute_result"
    }
   ],
   "source": [
    "url4 = \"https://data.cityofnewyork.us/resource/fhrw-4uyv.json?$where=created_date%20between%20%272019-04-11T13:36:06%27%20and%20%272019-04-12T00:00:00%27\"\n",
    "data4 = pd.read_json(url4)\n",
    "data4.created_date.tail()"
   ]
  },
  {
   "cell_type": "code",
   "execution_count": 70,
   "metadata": {},
   "outputs": [
    {
     "data": {
      "text/plain": [
       "995    2019-04-11T17:29:44.000\n",
       "996    2019-04-11T17:29:44.000\n",
       "997    2019-04-11T17:29:45.000\n",
       "998    2019-04-11T17:29:46.000\n",
       "999    2019-04-11T17:30:00.000\n",
       "Name: created_date, dtype: object"
      ]
     },
     "execution_count": 70,
     "metadata": {},
     "output_type": "execute_result"
    }
   ],
   "source": [
    "url5 = \"https://data.cityofnewyork.us/resource/fhrw-4uyv.json?$where=created_date%20between%20%272019-04-11T15:25:22%27%20and%20%272019-04-12T00:00:00%27\"\n",
    "data5 = pd.read_json(url5)\n",
    "data5.created_date.tail()"
   ]
  },
  {
   "cell_type": "code",
   "execution_count": 71,
   "metadata": {},
   "outputs": [
    {
     "data": {
      "text/plain": [
       "995    2019-04-11T20:29:55.000\n",
       "996    2019-04-11T20:30:00.000\n",
       "997    2019-04-11T20:30:11.000\n",
       "998    2019-04-11T20:30:33.000\n",
       "999    2019-04-11T20:30:35.000\n",
       "Name: created_date, dtype: object"
      ]
     },
     "execution_count": 71,
     "metadata": {},
     "output_type": "execute_result"
    }
   ],
   "source": [
    "url6 = \"https://data.cityofnewyork.us/resource/fhrw-4uyv.json?$where=created_date%20between%20%272019-04-11T17:30:00%27%20and%20%272019-04-12T00:00:00%27\"\n",
    "data6 = pd.read_json(url6)\n",
    "data6.created_date.tail()"
   ]
  },
  {
   "cell_type": "code",
   "execution_count": 75,
   "metadata": {},
   "outputs": [
    {
     "data": {
      "text/plain": [
       "'2019-04-11T20:30:35.000'"
      ]
     },
     "execution_count": 75,
     "metadata": {},
     "output_type": "execute_result"
    }
   ],
   "source": [
    "data6.created_date[999]"
   ]
  },
  {
   "cell_type": "code",
   "execution_count": 80,
   "metadata": {},
   "outputs": [
    {
     "data": {
      "text/plain": [
       "984    2019-04-11T23:57:41.000\n",
       "985    2019-04-11T23:57:52.000\n",
       "986    2019-04-11T23:58:00.000\n",
       "987    2019-04-11T23:58:07.000\n",
       "988    2019-04-11T23:58:12.000\n",
       "989    2019-04-11T23:58:52.000\n",
       "990    2019-04-11T23:59:00.000\n",
       "991    2019-04-11T23:59:00.000\n",
       "992    2019-04-11T23:59:00.000\n",
       "993    2019-04-11T23:59:47.000\n",
       "Name: created_date, dtype: object"
      ]
     },
     "execution_count": 80,
     "metadata": {},
     "output_type": "execute_result"
    }
   ],
   "source": [
    "url7 = \"https://data.cityofnewyork.us/resource/fhrw-4uyv.json?$where=created_date%20between%20%272019-04-11T20:30:35%27%20and%20%272019-04-11T23:59:48%27\"\n",
    "data7 = pd.read_json(url7)\n",
    "data7.created_date.tail(10)"
   ]
  },
  {
   "cell_type": "code",
   "execution_count": null,
   "metadata": {},
   "outputs": [],
   "source": [
    "df.to_csv('NewSavedView.csv', index=False)"
   ]
  }
 ],
 "metadata": {
  "kernelspec": {
   "display_name": "Python 3",
   "language": "python",
   "name": "python3"
  },
  "language_info": {
   "codemirror_mode": {
    "name": "ipython",
    "version": 3
   },
   "file_extension": ".py",
   "mimetype": "text/x-python",
   "name": "python",
   "nbconvert_exporter": "python",
   "pygments_lexer": "ipython3",
   "version": "3.7.1"
  }
 },
 "nbformat": 4,
 "nbformat_minor": 2
}
